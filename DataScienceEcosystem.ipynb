{
 "cells": [
  {
   "cell_type": "markdown",
   "id": "81897b98-3f47-4159-b95a-a3ba52f23bda",
   "metadata": {},
   "source": [
    "# Data Science Tools and Ecosystem\n",
    "\n",
    "    "
   ]
  },
  {
   "cell_type": "markdown",
   "id": "1dcf591d-e190-478d-ab84-59b64de3d6bb",
   "metadata": {
    "tags": []
   },
   "source": [
    "In this notebook, Data Science Tools and Ecosystem are summarized.\n"
   ]
  },
  {
   "cell_type": "markdown",
   "id": "007d4eee-e817-41c4-8577-eddff242c652",
   "metadata": {
    "tags": []
   },
   "source": [
    "### Objectives:\n",
    "\n",
    "+ List popular languages for Data Science\n",
    "+ List popular packages for Data Science \n",
    "+ List IDEs for Data Science \n",
    "+ Run simple arithmetic code"
   ]
  },
  {
   "cell_type": "markdown",
   "id": "323d2264-f852-4b3e-9130-e3e962665052",
   "metadata": {},
   "source": [
    "Some of the popular languages that Data Scientists use are:\n",
    "\n",
    "1. Python\n",
    "2. R\n",
    "3. SQL\n",
    "4. Java\n",
    "5. Scala"
   ]
  },
  {
   "cell_type": "markdown",
   "id": "fe0984e5-a458-48d2-947b-ff29badd2b2a",
   "metadata": {},
   "source": [
    "Some of the popular packages that Data Scientists use are:\n",
    "\n",
    "1. Pandas\n",
    "2. Matplotlib\n",
    "3. NumPy\n",
    "4. SciPy\n",
    "5. TensorFlow\n",
    "\n"
   ]
  },
  {
   "cell_type": "markdown",
   "id": "e520fe75-8ab6-43a9-8d61-128feb99eb31",
   "metadata": {
    "tags": []
   },
   "source": [
    "|Data Science Tools|\n",
    "|---|\n",
    "|JupyterLabs|\n",
    "|Spyder|\n",
    "|Visual Studio Code|\n",
    "|PyCharm|\n"
   ]
  },
  {
   "cell_type": "markdown",
   "id": "429a292f-7d04-4476-aa6a-081b6421e7f5",
   "metadata": {
    "tags": []
   },
   "source": [
    "### Below are a few examples of evaluating arithmetic expressions in Python"
   ]
  },
  {
   "cell_type": "code",
   "execution_count": 14,
   "id": "9da77ad7-08cf-4de6-bbd5-8b8e96df00db",
   "metadata": {
    "tags": []
   },
   "outputs": [
    {
     "data": {
      "text/plain": [
       "17"
      ]
     },
     "execution_count": 14,
     "metadata": {},
     "output_type": "execute_result"
    }
   ],
   "source": [
    "# This a simple arithmetic expression to mutiply then add integers\n",
    "\n",
    "(3*4)+5"
   ]
  },
  {
   "cell_type": "code",
   "execution_count": 20,
   "id": "be8dec84-ebcc-4cb6-b3c6-f93f9f2bd209",
   "metadata": {
    "tags": []
   },
   "outputs": [
    {
     "data": {
      "text/plain": [
       "3.3333333333333335"
      ]
     },
     "execution_count": 20,
     "metadata": {},
     "output_type": "execute_result"
    }
   ],
   "source": [
    "#  This will convert 200 minutes to hours by diving by 60\n",
    "\n",
    "200/60"
   ]
  },
  {
   "cell_type": "markdown",
   "id": "43f6a2ad-590f-416c-a2c2-790e629d9aaa",
   "metadata": {},
   "source": [
    "## Authour\n",
    "\n",
    "Chris Khouri"
   ]
  },
  {
   "cell_type": "code",
   "execution_count": null,
   "id": "21f11633-1912-4a07-9a4d-d6594c451aa2",
   "metadata": {},
   "outputs": [],
   "source": []
  }
 ],
 "metadata": {
  "kernelspec": {
   "display_name": "Python",
   "language": "python",
   "name": "conda-env-python-py"
  },
  "language_info": {
   "codemirror_mode": {
    "name": "ipython",
    "version": 3
   },
   "file_extension": ".py",
   "mimetype": "text/x-python",
   "name": "python",
   "nbconvert_exporter": "python",
   "pygments_lexer": "ipython3",
   "version": "3.7.12"
  }
 },
 "nbformat": 4,
 "nbformat_minor": 5
}
